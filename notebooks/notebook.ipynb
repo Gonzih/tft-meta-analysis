{
 "cells": [
  {
   "cell_type": "code",
   "execution_count": 1,
   "id": "9caed113-779b-4a05-a0f3-1177326001c9",
   "metadata": {},
   "outputs": [
    {
     "name": "stderr",
     "output_type": "stream",
     "text": [
      "\u001b[32m\u001b[1m    Updating\u001b[22m\u001b[39m registry at `~/.julia/registries/General.toml`\n",
      "\u001b[32m\u001b[1m   Resolving\u001b[22m\u001b[39m package versions...\n",
      "\u001b[32m\u001b[1m  No Changes\u001b[22m\u001b[39m to `~/.julia/environments/v1.7/Project.toml`\n",
      "\u001b[32m\u001b[1m  No Changes\u001b[22m\u001b[39m to `~/.julia/environments/v1.7/Manifest.toml`\n"
     ]
    }
   ],
   "source": [
    "include(\"src/pkgs.jl\")"
   ]
  },
  {
   "cell_type": "code",
   "execution_count": 2,
   "id": "e5de87c3-323b-40e7-9d62-7f735dc72094",
   "metadata": {},
   "outputs": [],
   "source": [
    "include(\"src/riot.jl\")\n",
    "using Main.Riot"
   ]
  },
  {
   "cell_type": "code",
   "execution_count": null,
   "id": "b672cb43-083c-4662-923d-3bc8c5dd30ef",
   "metadata": {},
   "outputs": [
    {
     "name": "stdout",
     "output_type": "stream",
     "text": [
      "Loading league challenger\n",
      "Loading https://na1.api.riotgames.com/tft/league/v1/challenger -> cache/get-e2df10eaebc8ae8d9bed7951d17e48b4.json\n",
      "Loading summoner hJVCiY1IT52HU_RD8Ko9lhaGIDuCHAKBBP7wfHMobLM9wzo\n",
      "Loading https://na1.api.riotgames.com/tft/summoner/v1/summoners/hJVCiY1IT52HU_RD8Ko9lhaGIDuCHAKBBP7wfHMobLM9wzo -> cache/get-c00dd760115ba264843c32adcf122128.json\n",
      "Loading matches for yh1UhhyMCruRwsmYlNXjEh0802T5VAIZ4n5yn1r1OuEPFFfluuvq40dZygP7cMekXsLh9j46MGBHhg\n",
      "Loading https://americas.api.riotgames.com/tft/match/v1/matches/by-puuid/yh1UhhyMCruRwsmYlNXjEh0802T5VAIZ4n5yn1r1OuEPFFfluuvq40dZygP7cMekXsLh9j46MGBHhg/ids -> cache/get-409f248cc03b938dd71e91671f470a9d.json\n",
      "Loading match NA1_4322256054\n",
      "Loading https://americas.api.riotgames.com/tft/match/v1/matches/NA1_4322256054 -> cache/match-174f480a6b722ce7407ae4d507bf3eed.json\n",
      "Loading match NA1_4321136124\n",
      "Loading https://americas.api.riotgames.com/tft/match/v1/matches/NA1_4321136124 -> cache/match-42b0f2f33738077fac341c99dfd0307e.json\n",
      "Loading match NA1_4320066400\n",
      "Loading https://americas.api.riotgames.com/tft/match/v1/matches/NA1_4320066400 -> cache/match-f6e25f590b78adbf854299270f008b01.json\n",
      "Loading match NA1_4318001665\n",
      "Loading https://americas.api.riotgames.com/tft/match/v1/matches/NA1_4318001665 -> cache/match-44dc01a0c629527dccccd05147c18fe8.json\n",
      "Loading match NA1_4317855485\n",
      "Loading https://americas.api.riotgames.com/tft/match/v1/matches/NA1_4317855485 -> cache/match-6e95297b0c543f1f975e8a4abad9240c.json\n",
      "Loading match NA1_4316843211\n",
      "Loading https://americas.api.riotgames.com/tft/match/v1/matches/NA1_4316843211 -> cache/match-1a67ef5f5ef04b8ec79636ed8e3a7e73.json\n",
      "Loading match NA1_4315715703\n",
      "Loading https://americas.api.riotgames.com/tft/match/v1/matches/NA1_4315715703 -> cache/match-8b210799de95aa1eff250939d957cf60.json\n",
      "Loading match NA1_4314674010\n",
      "Loading https://americas.api.riotgames.com/tft/match/v1/matches/NA1_4314674010 -> cache/match-b36f1647c879539af9cd483748c33df0.json\n",
      "Loading match NA1_4313710387\n",
      "Loading https://americas.api.riotgames.com/tft/match/v1/matches/NA1_4313710387 -> cache/match-ebee3e713463fa582fd3e0d296686886.json\n",
      "Loading match NA1_4311593565\n",
      "Loading https://americas.api.riotgames.com/tft/match/v1/matches/NA1_4311593565 -> cache/match-e45a9aa45ac736037bfe90ad1bfa502b.json\n",
      "Loading match NA1_4311554371\n",
      "Loading https://americas.api.riotgames.com/tft/match/v1/matches/NA1_4311554371 -> cache/match-36145e3d7e641862f4107f5b7eab54fb.json\n",
      "Loading match NA1_4310504155\n",
      "Loading https://americas.api.riotgames.com/tft/match/v1/matches/NA1_4310504155 -> cache/match-ff08ad85ecd5a6157c3ae1079f2909c7.json\n",
      "Loading match NA1_4309300264\n",
      "Loading https://americas.api.riotgames.com/tft/match/v1/matches/NA1_4309300264 -> cache/match-831f728cc410a1649bc795ea4121bd1e.json\n",
      "Loading match NA1_4308162628\n",
      "Loading https://americas.api.riotgames.com/tft/match/v1/matches/NA1_4308162628 -> cache/match-170d25f31c32d72df1e41d859c700446.json\n",
      "Loading match NA1_4305796453\n",
      "Loading https://americas.api.riotgames.com/tft/match/v1/matches/NA1_4305796453 -> cache/match-02905ec5f20f7a18dedba9087b224cd4.json\n",
      "Loading match NA1_4305616793\n",
      "Loading https://americas.api.riotgames.com/tft/match/v1/matches/NA1_4305616793 -> cache/match-e328aaf37fe6f638729eb48b8babd13b.json\n",
      "Loading match NA1_4304709856\n",
      "Loading https://americas.api.riotgames.com/tft/match/v1/matches/NA1_4304709856 -> cache/match-5b5e5e61663735e0942d8448f62b2d82.json\n",
      "Loading match NA1_4303566659\n",
      "Loading https://americas.api.riotgames.com/tft/match/v1/matches/NA1_4303566659 -> cache/match-a9ee8768ebcc0238311b0d8f457e418f.json\n",
      "Loading match NA1_4302873164\n",
      "Loading https://americas.api.riotgames.com/tft/match/v1/matches/NA1_4302873164 -> cache/match-b6a372713225d0de3b0a67e3e583dfed.json\n",
      "Loading match NA1_4301701437\n",
      "Loading https://americas.api.riotgames.com/tft/match/v1/matches/NA1_4301701437 -> cache/match-823b6138a40e08d3a789741ba048aa55.json\n",
      "Loading summoner _ZN5zOY8pGbsUimv33Z7oajeXroptj--8HxHQfw5gEFKyI4\n",
      "Loading https://na1.api.riotgames.com/tft/summoner/v1/summoners/_ZN5zOY8pGbsUimv33Z7oajeXroptj--8HxHQfw5gEFKyI4 -> cache/get-d554fa260b6241a62008aaf08ff4f67d.json\n",
      "Loading matches for oQ_8wO0bUotvOTMreFzeVMRIvZvoXLTozNGKfefJR6Q2G7D0qEDpVZg8OOZXOcFylYDqwSYDShOLdg\n",
      "Loading https://americas.api.riotgames.com/tft/match/v1/matches/by-puuid/oQ_8wO0bUotvOTMreFzeVMRIvZvoXLTozNGKfefJR6Q2G7D0qEDpVZg8OOZXOcFylYDqwSYDShOLdg/ids -> cache/get-470d3e660b7ef111c312dee8bdd438e6.json\n",
      "Loading match NA1_4320882112\n",
      "Loading https://americas.api.riotgames.com/tft/match/v1/matches/NA1_4320882112 -> cache/match-f6881ecae5b2ccbdef8eca0f23470394.json\n",
      "Loading match NA1_4320827271\n",
      "Loading https://americas.api.riotgames.com/tft/match/v1/matches/NA1_4320827271 -> cache/match-ece39f4f89f90863c3a2403e3632ff45.json\n",
      "Loading match NA1_4318534796\n",
      "Loading https://americas.api.riotgames.com/tft/match/v1/matches/NA1_4318534796 -> cache/match-0fecf68787bcb4da0ac3114d0b7f80a4.json\n",
      "Loading match NA1_4318449318\n",
      "Loading https://americas.api.riotgames.com/tft/match/v1/matches/NA1_4318449318 -> cache/match-ae1d7b38fb9b94b5edc1519fc30e0302.json\n",
      "Loading match NA1_4317281620\n",
      "Loading https://americas.api.riotgames.com/tft/match/v1/matches/NA1_4317281620 -> cache/match-98e04789eeb8107d31fa2fadf8f8e823.json\n",
      "Loading match NA1_4316316962\n",
      "Loading https://americas.api.riotgames.com/tft/match/v1/matches/NA1_4316316962 -> cache/match-537e8540ddee95735100f3fc1578076e.json\n",
      "Loading match NA1_4316312469\n",
      "Loading https://americas.api.riotgames.com/tft/match/v1/matches/NA1_4316312469 -> cache/match-44a6c7a06a242fa16eadb175f1fabb0a.json\n",
      "Loading match NA1_4316239114\n",
      "Loading https://americas.api.riotgames.com/tft/match/v1/matches/NA1_4316239114 -> cache/match-9c0cfe37f72f9b820af77cf5de66b849.json\n",
      "Loading match NA1_4316205871\n",
      "Loading https://americas.api.riotgames.com/tft/match/v1/matches/NA1_4316205871 -> cache/match-9eeb577481927a55d0bbfa24a3a238be.json\n",
      "Loading match NA1_4316203464\n",
      "Loading https://americas.api.riotgames.com/tft/match/v1/matches/NA1_4316203464 -> cache/match-8c7ae301a8554e44da89c242b7f9b037.json\n",
      "Loading match NA1_4316211222\n",
      "Loading https://americas.api.riotgames.com/tft/match/v1/matches/NA1_4316211222 -> cache/match-d66bc1cdc36dbe92a09058edacd466b3.json\n",
      "Loading match NA1_4316159165\n",
      "Loading https://americas.api.riotgames.com/tft/match/v1/matches/NA1_4316159165 -> cache/match-6804ed9ef02db7c353641d354185caff.json\n",
      "Loading match NA1_4316117770\n",
      "Loading https://americas.api.riotgames.com/tft/match/v1/matches/NA1_4316117770 -> cache/match-129f731b2575ec13f65161250958537d.json\n",
      "Loading match NA1_4316164476\n",
      "Loading https://americas.api.riotgames.com/tft/match/v1/matches/NA1_4316164476 -> cache/match-d516cd96d65e933b933ec0d687847ebc.json\n",
      "Loading match NA1_4315640868\n",
      "Loading https://americas.api.riotgames.com/tft/match/v1/matches/NA1_4315640868 -> cache/match-31be94d7308564beb6d4d3c909b90509.json\n",
      "Loading match NA1_4315576001\n",
      "Loading https://americas.api.riotgames.com/tft/match/v1/matches/NA1_4315576001 -> cache/match-e3b999cd0819a3b6f8aa48c41b396edb.json\n",
      "Loading match NA1_4315519106\n",
      "Loading https://americas.api.riotgames.com/tft/match/v1/matches/NA1_4315519106 -> cache/match-b0802dd6c618edf032ed2fd45986bae5.json\n",
      "Loading match NA1_4315544724\n",
      "Loading https://americas.api.riotgames.com/tft/match/v1/matches/NA1_4315544724 -> cache/match-6ca4a0a9e173f745f466808de9537333.json\n",
      "Loading match NA1_4315540275\n",
      "Loading https://americas.api.riotgames.com/tft/match/v1/matches/NA1_4315540275 -> cache/match-7fe64164f940d2cd0a3ca864e567a60f.json\n",
      "Loading match NA1_4315465187\n",
      "Loading https://americas.api.riotgames.com/tft/match/v1/matches/NA1_4315465187 -> cache/match-b923aecadfd8b602541bddfaf5cc3890.json\n"
     ]
    }
   ],
   "source": [
    "leagues = [\"challenger\"]\n",
    "\n",
    "function scrape_match(id)\n",
    "    mdata = load_match(id)\n",
    "    mdata\n",
    "end\n",
    "\n",
    "function scrape_summoner(data)\n",
    "    id = data[\"summonerId\"]\n",
    "    sdata = load_summoner(id)\n",
    "    puuid = sdata[\"puuid\"]\n",
    "    matches = load_matches_for(puuid)\n",
    "    map(scrape_match, matches)\n",
    "end\n",
    "\n",
    "function scrape_league(l)\n",
    "    ldata = load_league(l)\n",
    "    map(scrape_summoner, ldata[\"entries\"])\n",
    "end\n",
    "\n",
    "map(scrape_league, leagues)"
   ]
  }
 ],
 "metadata": {
  "kernelspec": {
   "display_name": "Julia 1.7.3",
   "language": "julia",
   "name": "julia-1.7"
  },
  "language_info": {
   "file_extension": ".jl",
   "mimetype": "application/julia",
   "name": "julia",
   "version": "1.7.3"
  }
 },
 "nbformat": 4,
 "nbformat_minor": 5
}
