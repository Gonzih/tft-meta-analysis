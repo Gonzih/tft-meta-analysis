{
 "cells": [
  {
   "cell_type": "code",
   "execution_count": 1,
   "id": "9caed113-779b-4a05-a0f3-1177326001c9",
   "metadata": {},
   "outputs": [
    {
     "name": "stderr",
     "output_type": "stream",
     "text": [
      "\u001b[32m\u001b[1m    Updating\u001b[22m\u001b[39m registry at `~/.julia/registries/General.toml`\n",
      "\u001b[32m\u001b[1m   Resolving\u001b[22m\u001b[39m package versions...\n",
      "\u001b[32m\u001b[1m  No Changes\u001b[22m\u001b[39m to `~/.julia/environments/v1.7/Project.toml`\n",
      "\u001b[32m\u001b[1m  No Changes\u001b[22m\u001b[39m to `~/.julia/environments/v1.7/Manifest.toml`\n"
     ]
    }
   ],
   "source": [
    "include(\"src/pkgs.jl\")"
   ]
  },
  {
   "cell_type": "code",
   "execution_count": 2,
   "id": "e5de87c3-323b-40e7-9d62-7f735dc72094",
   "metadata": {},
   "outputs": [],
   "source": [
    "include(\"src/riot.jl\")\n",
    "using Main.Riot"
   ]
  },
  {
   "cell_type": "code",
   "execution_count": 3,
   "id": "b672cb43-083c-4662-923d-3bc8c5dd30ef",
   "metadata": {},
   "outputs": [
    {
     "name": "stdout",
     "output_type": "stream",
     "text": [
      "Loading league challenger\n",
      "Loading summoner hRHUp3pDrtCJM6BNSzEMiWtu-s7Obnj5mEHihE91WQTnwiBgSu0F_hqb-A\n",
      "Loading matches for u-iAax7P0b1uAzMVVKdp26UP2bHHSEwiAFWbYN1cn_BXCttTnNCvM7QULximTMxPJccIdvn8j_VCdQ\n",
      "Loading match NA1_4315424340\n",
      "Loading https://americas.api.riotgames.comtft/match/v1/matches/NA1_4315424340 -> cache/520851a447d2b82db8456fbb2ba041fe.json\n"
     ]
    },
    {
     "ename": "LoadError",
     "evalue": "DNSError: americas.api.riotgames.comtft, unknown node or service (EAI_NONAME)",
     "output_type": "error",
     "traceback": [
      "DNSError: americas.api.riotgames.comtft, unknown node or service (EAI_NONAME)",
      "",
      "Stacktrace:",
      "  [1] getalladdrinfo(host::String)",
      "    @ Sockets /julia-1.7.3/share/julia/stdlib/v1.7/Sockets/src/addrinfo.jl:113",
      "  [2] getalladdrinfo",
      "    @ /julia-1.7.3/share/julia/stdlib/v1.7/Sockets/src/addrinfo.jl:122 [inlined]",
      "  [3] getconnection(::Type{Sockets.TCPSocket}, host::SubString{String}, port::String; keepalive::Bool, connect_timeout::Int64, readtimeout::Int64, kw::Base.Pairs{Symbol, Union{Nothing, Integer}, NTuple{4, Symbol}, NamedTuple{(:require_ssl_verification, :iofunction, :reached_redirect_limit, :verbose), Tuple{Bool, Nothing, Bool, Int64}}})",
      "    @ HTTP.ConnectionPool ~/.julia/packages/HTTP/aTjcj/src/ConnectionPool.jl:659",
      "  [4] #getconnection#29",
      "    @ ~/.julia/packages/HTTP/aTjcj/src/ConnectionPool.jl:728 [inlined]",
      "  [5] newconnection(pod::HTTP.ConnectionPool.Pod, T::Type, host::SubString{String}, port::SubString{String}, pipeline_limit::Int64, require_ssl_verification::Bool, idle_timeout::Int64; kw::Base.Pairs{Symbol, Union{Nothing, Integer}, Tuple{Symbol, Symbol, Symbol}, NamedTuple{(:iofunction, :reached_redirect_limit, :verbose), Tuple{Nothing, Bool, Int64}}})",
      "    @ HTTP.ConnectionPool ~/.julia/packages/HTTP/aTjcj/src/ConnectionPool.jl:626",
      "  [6] getconnection(::Type{HTTP.ConnectionPool.Transaction{MbedTLS.SSLContext}}, host::SubString{String}, port::SubString{String}; connection_limit::Int64, pipeline_limit::Int64, idle_timeout::Int64, reuse_limit::Int64, require_ssl_verification::Bool, kw::Base.Pairs{Symbol, Union{Nothing, Integer}, Tuple{Symbol, Symbol, Symbol}, NamedTuple{(:iofunction, :reached_redirect_limit, :verbose), Tuple{Nothing, Bool, Int64}}})",
      "    @ HTTP.ConnectionPool ~/.julia/packages/HTTP/aTjcj/src/ConnectionPool.jl:570",
      "  [7] request(::Type{ConnectionPoolLayer{StreamLayer{Union{}}}}, url::URIs.URI, req::HTTP.Messages.Request, body::Vector{UInt8}; proxy::Nothing, socket_type::Type, reuse_limit::Int64, kw::Base.Pairs{Symbol, Union{Nothing, Integer}, Tuple{Symbol, Symbol, Symbol}, NamedTuple{(:iofunction, :reached_redirect_limit, :verbose), Tuple{Nothing, Bool, Int64}}})",
      "    @ HTTP.ConnectionRequest ~/.julia/packages/HTTP/aTjcj/src/ConnectionRequest.jl:85",
      "  [8] request(::Type{ExceptionLayer{ConnectionPoolLayer{StreamLayer{Union{}}}}}, ::URIs.URI, ::Vararg{Any}; kw::Base.Pairs{Symbol, Union{Nothing, Integer}, Tuple{Symbol, Symbol, Symbol}, NamedTuple{(:iofunction, :reached_redirect_limit, :verbose), Tuple{Nothing, Bool, Int64}}})",
      "    @ HTTP.ExceptionRequest ~/.julia/packages/HTTP/aTjcj/src/ExceptionRequest.jl:19",
      "  [9] (::Base.var\"#76#78\"{Base.var\"#76#77#79\"{ExponentialBackOff, HTTP.RetryRequest.var\"#2#3\"{Bool, HTTP.Messages.Request}, typeof(HTTP.request)}})(::Type, ::Vararg{Any}; kwargs::Base.Pairs{Symbol, Union{Nothing, Integer}, Tuple{Symbol, Symbol, Symbol}, NamedTuple{(:iofunction, :reached_redirect_limit, :verbose), Tuple{Nothing, Bool, Int64}}})",
      "    @ Base ./error.jl:307",
      " [10] #request#1",
      "    @ ~/.julia/packages/HTTP/aTjcj/src/RetryRequest.jl:44 [inlined]",
      " [11] request(::Type{MessageLayer{RetryLayer{ExceptionLayer{ConnectionPoolLayer{StreamLayer{Union{}}}}}}}, method::String, url::URIs.URI, headers::Vector{Pair{SubString{String}, SubString{String}}}, body::Vector{UInt8}; http_version::VersionNumber, target::String, parent::Nothing, iofunction::Nothing, kw::Base.Pairs{Symbol, Integer, Tuple{Symbol, Symbol}, NamedTuple{(:reached_redirect_limit, :verbose), Tuple{Bool, Int64}}})",
      "    @ HTTP.MessageRequest ~/.julia/packages/HTTP/aTjcj/src/MessageRequest.jl:66",
      " [12] request(::Type{BasicAuthLayer{MessageLayer{RetryLayer{ExceptionLayer{ConnectionPoolLayer{StreamLayer{Union{}}}}}}}}, method::String, url::URIs.URI, headers::Vector{Pair{SubString{String}, SubString{String}}}, body::Vector{UInt8}; kw::Base.Pairs{Symbol, Integer, Tuple{Symbol, Symbol}, NamedTuple{(:reached_redirect_limit, :verbose), Tuple{Bool, Int64}}})",
      "    @ HTTP.BasicAuthRequest ~/.julia/packages/HTTP/aTjcj/src/BasicAuthRequest.jl:28",
      " [13] request(::Type{RedirectLayer{BasicAuthLayer{MessageLayer{RetryLayer{ExceptionLayer{ConnectionPoolLayer{StreamLayer{Union{}}}}}}}}}, method::String, url::URIs.URI, headers::Vector{Pair{SubString{String}, SubString{String}}}, body::Vector{UInt8}; redirect_limit::Int64, forwardheaders::Bool, kw::Base.Pairs{Symbol, Int64, Tuple{Symbol}, NamedTuple{(:verbose,), Tuple{Int64}}})",
      "    @ HTTP.RedirectRequest ~/.julia/packages/HTTP/aTjcj/src/RedirectRequest.jl:28",
      " [14] #request#1",
      "    @ ~/.julia/packages/HTTP/aTjcj/src/TopRequest.jl:15 [inlined]",
      " [15] request(method::String, url::String, h::Vector{Pair{String, String}}, b::Vector{UInt8}; headers::Vector{Pair{String, String}}, body::Vector{UInt8}, query::Nothing, kw::Base.Pairs{Symbol, Int64, Tuple{Symbol}, NamedTuple{(:verbose,), Tuple{Int64}}})",
      "    @ HTTP ~/.julia/packages/HTTP/aTjcj/src/HTTP.jl:330",
      " [16] get(::String, ::Vararg{Any}; kw::Base.Pairs{Symbol, Int64, Tuple{Symbol}, NamedTuple{(:verbose,), Tuple{Int64}}})",
      "    @ HTTP ~/.julia/packages/HTTP/aTjcj/src/HTTP.jl:407",
      " [17] riot_get(routing::String, path::String)",
      "    @ Main.Riot /notebooks/src/riot.jl:21",
      " [18] load_match(id::String)",
      "    @ Main.Riot /notebooks/src/riot.jl:47",
      " [19] scrape_match(id::String)",
      "    @ Main ./In[3]:4",
      " [20] iterate",
      "    @ ./generator.jl:47 [inlined]",
      " [21] _collect(c::Vector{Any}, itr::Base.Generator{Vector{Any}, typeof(scrape_match)}, #unused#::Base.EltypeUnknown, isz::Base.HasShape{1})",
      "    @ Base ./array.jl:744",
      " [22] collect_similar(cont::Vector{Any}, itr::Base.Generator{Vector{Any}, typeof(scrape_match)})",
      "    @ Base ./array.jl:653",
      " [23] map(f::Function, A::Vector{Any})",
      "    @ Base ./abstractarray.jl:2867",
      " [24] scrape_summoner(data::Dict{String, Any})",
      "    @ Main ./In[3]:13",
      " [25] iterate",
      "    @ ./generator.jl:47 [inlined]",
      " [26] _collect(c::Vector{Any}, itr::Base.Generator{Vector{Any}, typeof(scrape_summoner)}, #unused#::Base.EltypeUnknown, isz::Base.HasShape{1})",
      "    @ Base ./array.jl:744",
      " [27] collect_similar(cont::Vector{Any}, itr::Base.Generator{Vector{Any}, typeof(scrape_summoner)})",
      "    @ Base ./array.jl:653",
      " [28] map(f::Function, A::Vector{Any})",
      "    @ Base ./abstractarray.jl:2867",
      " [29] scrape_league(l::String)",
      "    @ Main ./In[3]:18",
      " [30] iterate",
      "    @ ./generator.jl:47 [inlined]",
      " [31] _collect(c::Vector{String}, itr::Base.Generator{Vector{String}, typeof(scrape_league)}, #unused#::Base.EltypeUnknown, isz::Base.HasShape{1})",
      "    @ Base ./array.jl:744",
      " [32] collect_similar(cont::Vector{String}, itr::Base.Generator{Vector{String}, typeof(scrape_league)})",
      "    @ Base ./array.jl:653",
      " [33] map(f::Function, A::Vector{String})",
      "    @ Base ./abstractarray.jl:2867",
      " [34] top-level scope",
      "    @ In[3]:21",
      " [35] eval",
      "    @ ./boot.jl:373 [inlined]",
      " [36] include_string(mapexpr::typeof(REPL.softscope), mod::Module, code::String, filename::String)",
      "    @ Base ./loading.jl:1196"
     ]
    }
   ],
   "source": [
    "leagues = [\"challenger\"]\n",
    "\n",
    "function scrape_match(id)\n",
    "    mdata = load_match(id)\n",
    "    mdata\n",
    "end\n",
    "\n",
    "function scrape_summoner(data)\n",
    "    id = data[\"summonerId\"]\n",
    "    sdata = load_summoner(id)\n",
    "    puuid = sdata[\"puuid\"]\n",
    "    matches = load_matches_for(puuid)\n",
    "    map(scrape_match, matches)\n",
    "end\n",
    "\n",
    "function scrape_league(l)\n",
    "    ldata = load_league(l)\n",
    "    map(scrape_summoner, ldata[\"entries\"])\n",
    "end\n",
    "\n",
    "map(scrape_league, leagues)"
   ]
  }
 ],
 "metadata": {
  "kernelspec": {
   "display_name": "Julia 1.7.3",
   "language": "julia",
   "name": "julia-1.7"
  },
  "language_info": {
   "file_extension": ".jl",
   "mimetype": "application/julia",
   "name": "julia",
   "version": "1.7.3"
  }
 },
 "nbformat": 4,
 "nbformat_minor": 5
}
